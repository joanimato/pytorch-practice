{
 "cells": [
  {
   "cell_type": "markdown",
   "id": "084f9b0a",
   "metadata": {},
   "source": [
    "# Neural network classification "
   ]
  },
  {
   "cell_type": "code",
   "execution_count": 2,
   "id": "73b2d3fd",
   "metadata": {},
   "outputs": [],
   "source": [
    "## create some data\n",
    "\n",
    "import sklearn\n",
    "from sklearn.datasets import make_circles"
   ]
  },
  {
   "cell_type": "code",
   "execution_count": 3,
   "id": "2def53b7",
   "metadata": {},
   "outputs": [
    {
     "data": {
      "text/plain": [
       "(1000, 1000)"
      ]
     },
     "execution_count": 3,
     "metadata": {},
     "output_type": "execute_result"
    }
   ],
   "source": [
    "\n",
    "nSamples = 1000\n",
    "\n",
    "x, y = make_circles(nSamples, noise=0.03, random_state=12)\n",
    "len(x), len(y)"
   ]
  },
  {
   "cell_type": "code",
   "execution_count": 5,
   "id": "6b0de97a",
   "metadata": {},
   "outputs": [
    {
     "data": {
      "text/plain": [
       "(array([[ 0.76285419,  0.21290457],\n",
       "        [-0.01353444, -0.7827793 ],\n",
       "        [-0.67886261, -0.42597787],\n",
       "        [-1.00609936, -0.32508754],\n",
       "        [-0.58527996, -0.79164499]]),\n",
       " array([1, 1, 1, 0, 0], dtype=int64))"
      ]
     },
     "execution_count": 5,
     "metadata": {},
     "output_type": "execute_result"
    }
   ],
   "source": []
  },
  {
   "cell_type": "code",
   "execution_count": 6,
   "id": "9258fe3e",
   "metadata": {},
   "outputs": [],
   "source": [
    "# Make dataframe of circle data\n",
    "\n",
    "import pandas as pd "
   ]
  },
  {
   "cell_type": "code",
   "execution_count": null,
   "id": "432631ee",
   "metadata": {},
   "outputs": [],
   "source": [
    "circles = pd.DataFrame({\"x1\": x})"
   ]
  }
 ],
 "metadata": {
  "kernelspec": {
   "display_name": "Python 3 (ipykernel)",
   "language": "python",
   "name": "python3"
  },
  "language_info": {
   "codemirror_mode": {
    "name": "ipython",
    "version": 3
   },
   "file_extension": ".py",
   "mimetype": "text/x-python",
   "name": "python",
   "nbconvert_exporter": "python",
   "pygments_lexer": "ipython3",
   "version": "3.11.9"
  }
 },
 "nbformat": 4,
 "nbformat_minor": 5
}
