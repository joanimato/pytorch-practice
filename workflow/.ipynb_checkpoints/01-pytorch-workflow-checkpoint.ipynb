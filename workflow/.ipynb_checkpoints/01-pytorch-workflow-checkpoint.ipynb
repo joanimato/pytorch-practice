{
 "cells": [
  {
   "cell_type": "code",
   "execution_count": 1,
   "id": "7e9452af",
   "metadata": {},
   "outputs": [],
   "source": [
    "import torch\n",
    "from torch import nn ##nn building blocks\n",
    "import matplotlib.pyplot as plt\n",
    "\n"
   ]
  },
  {
   "cell_type": "markdown",
   "id": "adceac67",
   "metadata": {},
   "source": [
    "# Preparing and loading data"
   ]
  },
  {
   "cell_type": "code",
   "execution_count": 2,
   "id": "417c46f0",
   "metadata": {},
   "outputs": [],
   "source": [
    "# linear regression formula to make straight line\n",
    "weight = 0.7\n",
    "bias = 0.3 \n",
    "\n",
    "start = 0 \n",
    "end = 1\n",
    "step = 0.02\n",
    "\n",
    "X = torch.arange(start, end, step).unsqueeze(1)\n",
    "y = weight*X + bias # ideal output. Say we don't know this"
   ]
  },
  {
   "cell_type": "code",
   "execution_count": 3,
   "id": "ff49e4dc",
   "metadata": {},
   "outputs": [
    {
     "data": {
      "text/plain": [
       "50"
      ]
     },
     "execution_count": 3,
     "metadata": {},
     "output_type": "execute_result"
    }
   ],
   "source": [
    "len(X)\n",
    "X"
   ]
  },
  {
   "cell_type": "code",
   "execution_count": 4,
   "id": "e38f9602",
   "metadata": {},
   "outputs": [
    {
     "data": {
      "text/plain": [
       "(40, 10)"
      ]
     },
     "execution_count": 4,
     "metadata": {},
     "output_type": "execute_result"
    }
   ],
   "source": [
    "# spliting the data into training and test\n",
    "train_split = int (0.8 * len(X))\n",
    "test_split = int(0.2 * len(X))\n",
    "train_split, test_split"
   ]
  },
  {
   "cell_type": "code",
   "execution_count": 22,
   "id": "58da5bc1",
   "metadata": {},
   "outputs": [
    {
     "data": {
      "text/plain": [
       "tensor([[0.0000],\n",
       "        [0.0200],\n",
       "        [0.0400],\n",
       "        [0.0600],\n",
       "        [0.0800],\n",
       "        [0.1000],\n",
       "        [0.1200],\n",
       "        [0.1400],\n",
       "        [0.1600],\n",
       "        [0.1800],\n",
       "        [0.2000],\n",
       "        [0.2200],\n",
       "        [0.2400],\n",
       "        [0.2600],\n",
       "        [0.2800],\n",
       "        [0.3000],\n",
       "        [0.3200],\n",
       "        [0.3400],\n",
       "        [0.3600],\n",
       "        [0.3800],\n",
       "        [0.4000],\n",
       "        [0.4200],\n",
       "        [0.4400],\n",
       "        [0.4600],\n",
       "        [0.4800],\n",
       "        [0.5000],\n",
       "        [0.5200],\n",
       "        [0.5400],\n",
       "        [0.5600],\n",
       "        [0.5800],\n",
       "        [0.6000],\n",
       "        [0.6200],\n",
       "        [0.6400],\n",
       "        [0.6600],\n",
       "        [0.6800],\n",
       "        [0.7000],\n",
       "        [0.7200],\n",
       "        [0.7400],\n",
       "        [0.7600],\n",
       "        [0.7800]])"
      ]
     },
     "execution_count": 22,
     "metadata": {},
     "output_type": "execute_result"
    }
   ],
   "source": [
    "X_train, y_train = X[:train_split], y[:train_split]\n",
    "X_test, y_test = X[train_split: ], y[train_split:]\n",
    "X_train"
   ]
  },
  {
   "cell_type": "code",
   "execution_count": 6,
   "id": "8225cbae",
   "metadata": {},
   "outputs": [],
   "source": [
    "# visualize numbers\n",
    "def plotPredictions(train_data=X_train, train_labels=y_train, \n",
    "                    test_data=X_test, test_labels=y_test, \n",
    "                    prediction=None):\n",
    "    \"\"\"\n",
    "    Plots data and compares predictions\n",
    "    \"\"\"\n",
    "    plt.figure(figsize=(8,6))\n",
    "    \n",
    "    plt.scatter(train_data, train_labels, c=\"b\", s=4, label=\"Training Data\")\n",
    "    plt.scatter(test_data, test_labels, c=\"g\", s=4, label=\"Testing Data\")\n",
    "    \n",
    "    if prediction is not None:\n",
    "        plt.scatter(test_data, prediction, c=\"r\", s=4 , label=\"Predictions\")\n",
    "    \n",
    "    plt.legend(prop={\"size\": 14})\n",
    "        "
   ]
  },
  {
   "cell_type": "code",
   "execution_count": 7,
   "id": "929de455",
   "metadata": {},
   "outputs": [
    {
     "data": {
      "image/png": "[encoded data removed]",
      "text/plain": [
       "<Figure size 800x600 with 1 Axes>"
      ]
     },
     "metadata": {},
     "output_type": "display_data"
    }
   ],
   "source": [
    "plotPredictions()"
   ]
  },
  {
   "cell_type": "code",
   "execution_count": 8,
   "id": "4021acc6",
   "metadata": {},
   "outputs": [],
   "source": [
    "# build linear pytorch model\n",
    "class LinearRegressionModel(nn.Module):\n",
    "    def __init__(self):\n",
    "        super().__init__()\n",
    "        self.weights = nn.Parameter(torch.randn(1, \n",
    "                                              requires_grad=True,\n",
    "                                              dtype=torch.float)) # these are defaults, so not needed\n",
    "        self.bias = nn.Parameter(torch.randn(1))\n",
    "        \n",
    "        #write forward method\n",
    "    def forward(self, x: torch.Tensor) -> torch.Tensor: ## makes the forward prediction \n",
    "        return self.weights * x + self.bias\n",
    "        \n",
    "        "
   ]
  },
  {
   "cell_type": "code",
   "execution_count": 9,
   "id": "1e976a03",
   "metadata": {},
   "outputs": [
    {
     "data": {
      "text/plain": [
       "[Parameter containing:\n",
       " tensor([0.3367], requires_grad=True),\n",
       " Parameter containing:\n",
       " tensor([0.1288], requires_grad=True)]"
      ]
     },
     "execution_count": 9,
     "metadata": {},
     "output_type": "execute_result"
    }
   ],
   "source": [
    "## instance of model\n",
    "\n",
    "torch.manual_seed(42)\n",
    "\n",
    "model0 = LinearRegressionModel()\n",
    "list(model0.parameters())"
   ]
  },
  {
   "cell_type": "code",
   "execution_count": 10,
   "id": "c83046a8",
   "metadata": {},
   "outputs": [
    {
     "data": {
      "text/plain": [
       "OrderedDict([('weights', tensor([0.3367])), ('bias', tensor([0.1288]))])"
      ]
     },
     "execution_count": 10,
     "metadata": {},
     "output_type": "execute_result"
    }
   ],
   "source": [
    "# list named parameters\n",
    "model0.state_dict()"
   ]
  },
  {
   "cell_type": "code",
   "execution_count": 11,
   "id": "d9992b45",
   "metadata": {},
   "outputs": [],
   "source": [
    "# check predictive power of model\n",
    "# torch.inference\n",
    "\n",
    "with torch.inference_mode():\n",
    "    y_pred = model0(X_test)"
   ]
  },
  {
   "cell_type": "code",
   "execution_count": 12,
   "id": "678f39a4",
   "metadata": {},
   "outputs": [
    {
     "data": {
      "text/plain": [
       "tensor([[0.3982],\n",
       "        [0.4049],\n",
       "        [0.4116],\n",
       "        [0.4184],\n",
       "        [0.4251],\n",
       "        [0.4318],\n",
       "        [0.4386],\n",
       "        [0.4453],\n",
       "        [0.4520],\n",
       "        [0.4588]])"
      ]
     },
     "execution_count": 12,
     "metadata": {},
     "output_type": "execute_result"
    }
   ],
   "source": [
    "y_pred"
   ]
  },
  {
   "cell_type": "code",
   "execution_count": 13,
   "id": "55ee373c",
   "metadata": {},
   "outputs": [
    {
     "data": {
      "image/png": "[encoded data removed]",
      "text/plain": [
       "<Figure size 800x600 with 1 Axes>"
      ]
     },
     "metadata": {},
     "output_type": "display_data"
    }
   ],
   "source": [
    "plotPredictions(prediction=y_pred)"
   ]
  },
  {
   "cell_type": "code",
   "execution_count": 14,
   "id": "176cf79d",
   "metadata": {},
   "outputs": [],
   "source": [
    "# setup loss function\n",
    "\n",
    "loss_fn = nn.L1Loss()\n",
    "\n",
    "# setup optimizer\n",
    "optimizer = torch.optim.SGD(params=model0.parameters(), lr=0.01) # stochastic gradient descent \n"
   ]
  },
  {
   "cell_type": "code",
   "execution_count": 15,
   "id": "fb7fc5b9",
   "metadata": {
    "scrolled": true
   },
   "outputs": [
    {
     "name": "stdout",
     "output_type": "stream",
     "text": [
      "Epoch: 0 | Loss: 0.31288138031959534 | Test Loss 0.48106518387794495\n",
      "Epoch: 10 | Loss: 0.1976713240146637 | Test Loss 0.3463551998138428\n",
      "Epoch: 20 | Loss: 0.08908725529909134 | Test Loss 0.21729660034179688\n",
      "Epoch: 30 | Loss: 0.053148526698350906 | Test Loss 0.14464017748832703\n",
      "Epoch: 40 | Loss: 0.04543796554207802 | Test Loss 0.11360953003168106\n",
      "Epoch: 50 | Loss: 0.04167863354086876 | Test Loss 0.09919948130846024\n",
      "Epoch: 60 | Loss: 0.03818932920694351 | Test Loss 0.08886633068323135\n",
      "Epoch: 70 | Loss: 0.03476089984178543 | Test Loss 0.0805937647819519\n",
      "Epoch: 80 | Loss: 0.03132382780313492 | Test Loss 0.07232122868299484\n",
      "Epoch: 90 | Loss: 0.02788739837706089 | Test Loss 0.06473556160926819\n"
     ]
    }
   ],
   "source": [
    "# training loop\n",
    "epochs = 100 # loops through the data\n",
    "\n",
    "for epoch in range(epochs):\n",
    "    # set to training mode\n",
    "    model0.train() \n",
    "    \n",
    "    # forward pass\n",
    "    y_pred = model0(X_train)\n",
    "    \n",
    "    #calculate loss\n",
    "    loss = loss_fn(y_pred, y_train)\n",
    "    #print(f\"Loss: {loss}\")\n",
    "    \n",
    "    # zero gradient of oiptimizer\n",
    "    optimizer.zero_grad()\n",
    "    \n",
    "    # perform back-propagation\n",
    "    loss.backward()\n",
    "    \n",
    "    \n",
    "    # perform the gradient descent step\n",
    "    optimizer.step()\n",
    "    \n",
    "    #testing\n",
    "    model0.eval() # turns off gradient tracking. \n",
    "    with torch.inference_mode():\n",
    "        test_pred = model0(X_test)\n",
    "        test_loss = loss_fn(test_pred, y_test)\n",
    "        \n",
    "    \n",
    "    if epoch % 10 == 0:\n",
    "        print(f\"Epoch: {epoch} | Loss: {loss} | Test Loss {test_loss}\")   \n",
    "        "
   ]
  },
  {
   "cell_type": "code",
   "execution_count": 16,
   "id": "f62c8b2d",
   "metadata": {},
   "outputs": [
    {
     "data": {
      "text/plain": [
       "OrderedDict([('weights', tensor([0.5784])), ('bias', tensor([0.3513]))])"
      ]
     },
     "execution_count": 16,
     "metadata": {},
     "output_type": "execute_result"
    }
   ],
   "source": [
    "model0.state_dict()"
   ]
  },
  {
   "cell_type": "code",
   "execution_count": 17,
   "id": "4df9ff38",
   "metadata": {},
   "outputs": [
    {
     "data": {
      "image/png": "[encoded data removed]",
      "text/plain": [
       "<Figure size 800x600 with 1 Axes>"
      ]
     },
     "metadata": {},
     "output_type": "display_data"
    }
   ],
   "source": [
    "with torch.inference_mode():\n",
    "    y_preds = model0(X_test)\n",
    "    \n",
    "plotPredictions(prediction=y_preds)"
   ]
  },
  {
   "cell_type": "markdown",
   "id": "cb5576e9",
   "metadata": {},
   "source": [
    "# Saving the model"
   ]
  },
  {
   "cell_type": "code",
   "execution_count": 18,
   "id": "c37d3bfd",
   "metadata": {},
   "outputs": [],
   "source": [
    "# use python's pickle format. \n",
    "# can save state dict or entire model"
   ]
  },
  {
   "cell_type": "code",
   "execution_count": 19,
   "id": "c55928f9",
   "metadata": {},
   "outputs": [
    {
     "data": {
      "text/plain": [
       "OrderedDict([('weights', tensor([0.5784])), ('bias', tensor([0.3513]))])"
      ]
     },
     "execution_count": 19,
     "metadata": {},
     "output_type": "execute_result"
    }
   ],
   "source": [
    "model0.state_dict()"
   ]
  },
  {
   "cell_type": "code",
   "execution_count": 21,
   "id": "56fadc01",
   "metadata": {},
   "outputs": [],
   "source": [
    "# saving the model \n",
    "from pathlib import Path\n",
    "\n",
    "# create model directory\n",
    "ModelPath = Path(\"models\")\n",
    "ModelPath.mkdir(parents=True, exist_ok=True)\n",
    "\n",
    "# Create model save path\n",
    "\n",
    "ModelName = \"01_pytorch_workflow_model0.pth\"\n",
    "ModelSavePath = ModelPath / ModelName\n",
    "\n",
    "# save the state dict\n",
    "\n",
    "torch.save(model0.state_dict(), ModelSavePath)"
   ]
  },
  {
   "cell_type": "markdown",
   "id": "7360d731-4e36-4cdb-af9a-7b802f52d5da",
   "metadata": {},
   "source": [
    "# Exercises"
   ]
  },
  {
   "cell_type": "markdown",
   "id": "fcf697ff-8a7c-4b9c-bde9-17b02068145d",
   "metadata": {},
   "source": [
    "1. Create a straight line dataset using the linear regression formula (weight * X + bias).\n",
    "\n",
    "Set weight=0.3 and bias=0.9 there should be at least 100 datapoints total\n",
    "\n",
    ".\n",
    "Split the data into 80% training, 20% testing\n",
    "\n",
    ".\n",
    "Plot the training and testing data so it becomes visual."
   ]
  },
  {
   "cell_type": "code",
   "execution_count": 3,
   "id": "50881a99",
   "metadata": {},
   "outputs": [
    {
     "data": {
      "text/plain": [
       "<matplotlib.collections.PathCollection at 0x254d8477250>"
      ]
     },
     "execution_count": 3,
     "metadata": {},
     "output_type": "execute_result"
    },
    {
     "data": {
      "image/png": "[encoded data removed]",
      "text/plain": [
       "<Figure size 640x480 with 1 Axes>"
      ]
     },
     "metadata": {},
     "output_type": "display_data"
    }
   ],
   "source": [
    "w = 0.3\n",
    "b = 0.9 \n",
    "\n",
    "X = torch.arange(0, 1, 0.02).unsqueeze(1)\n",
    "y = w*X + b\n",
    "\n",
    "split = int (0.8 * len(X))\n",
    "\n",
    "X_train = X[: split]\n",
    "y_train = y[: split]\n",
    "X_test = X[split :]\n",
    "y_test = y[split :]\n",
    "\n",
    "plt.scatter (X_train, y_train)"
   ]
  },
  {
   "cell_type": "code",
   "execution_count": null,
   "id": "fb0bb821",
   "metadata": {},
   "outputs": [],
   "source": [
    "class exampleModel(nn.Module):\n",
    "    def self.__init__:\n",
    "        super.__init__()\n",
    "        self.weights = nn.Parameter(torch.randn(1, \n",
    "                                              requires_grad=True,\n",
    "                                              dtype=torch.float)) # these are defaults, so not needed\n",
    "        self.bias = nn.Parameter(torch.randn(1), requires_grad=True)\n",
    "        \n",
    "        #write forward method\n",
    "    def forward(self, x: torch.Tensor) -> torch.Tensor: ## makes the forward prediction \n",
    "        return self.weights * x + self.bias"
   ]
  }
 ],
 "metadata": {
  "kernelspec": {
   "display_name": "Python 3 (ipykernel)",
   "language": "python",
   "name": "python3"
  },
  "language_info": {
   "codemirror_mode": {
    "name": "ipython",
    "version": 3
   },
   "file_extension": ".py",
   "mimetype": "text/x-python",
   "name": "python",
   "nbconvert_exporter": "python",
   "pygments_lexer": "ipython3",
   "version": "3.11.9"
  }
 },
 "nbformat": 4,
 "nbformat_minor": 5
}
